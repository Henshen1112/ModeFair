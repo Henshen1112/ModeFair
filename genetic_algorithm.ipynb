{
  "nbformat": 4,
  "nbformat_minor": 0,
  "metadata": {
    "colab": {
      "provenance": []
    },
    "kernelspec": {
      "name": "python3",
      "display_name": "Python 3"
    },
    "language_info": {
      "name": "python"
    }
  },
  "cells": [
    {
      "cell_type": "markdown",
      "source": [
        "## Define test data constants & distance formula"
      ],
      "metadata": {
        "id": "b8-lRS-NB28H"
      }
    },
    {
      "cell_type": "code",
      "source": [
        "import numpy as np\n",
        "import random\n",
        "import math\n",
        "\n",
        "depot = (4.4184, 114.0932)\n",
        "customers = [\n",
        "    (4.3555, 113.9777, 5),\n",
        "    (4.3976, 114.0049, 8),\n",
        "    (4.3163, 114.0764, 3),\n",
        "    (4.3184, 113.9932, 6),\n",
        "    (4.4024, 113.9896, 5),\n",
        "    (4.4142, 114.0127, 8),\n",
        "    (4.4804, 114.0734, 3),\n",
        "    (4.3818, 114.2034, 6),\n",
        "    (4.4935, 114.1828, 5),\n",
        "    (4.4932, 114.1322, 8)\n",
        "]\n",
        "\n",
        "vehicle_types = {\n",
        "    'A': {'capacity': 25, 'cost_per_km': 1.2},\n",
        "    'B': {'capacity': 30, 'cost_per_km': 1.5}\n",
        "}\n",
        "\n",
        "def calculate_distance(loc1, loc2):\n",
        "    return 100 * math.sqrt((loc2[1] - loc1[1])**2 + (loc2[0] - loc1[0])**2)"
      ],
      "metadata": {
        "id": "ae4DeO7Yb1r_"
      },
      "execution_count": 10,
      "outputs": []
    },
    {
      "cell_type": "markdown",
      "source": [
        "# Generates an initial population of solutions represent a set of routes for the vehicles."
      ],
      "metadata": {
        "id": "M73MEMTECEkO"
      }
    },
    {
      "cell_type": "code",
      "source": [
        "# Generate initial population\n",
        "def generate_initial_population(pop_size, num_vehicles):\n",
        "    population = []\n",
        "    for _ in range(pop_size):\n",
        "        unassigned_customers = customers.copy()  # Start with all unassigned customers\n",
        "        random.shuffle(unassigned_customers)\n",
        "        routes = []\n",
        "        for i in range(num_vehicles):\n",
        "            if not unassigned_customers:\n",
        "                break\n",
        "            vehicle_type = random.choice(['A', 'B'])\n",
        "            route_capacity = vehicle_types[vehicle_type]['capacity']\n",
        "            route = [depot]\n",
        "            current_capacity = 0\n",
        "            assigned_indices = []\n",
        "            for idx, customer in enumerate(unassigned_customers):\n",
        "                if current_capacity + customer[2] <= route_capacity:\n",
        "                    route.append(customer)\n",
        "                    current_capacity += customer[2]\n",
        "                    assigned_indices.append(idx)\n",
        "                if current_capacity >= route_capacity:\n",
        "                    break\n",
        "            for idx in sorted(assigned_indices, reverse=True):\n",
        "                unassigned_customers.pop(idx)\n",
        "            route.append(depot)\n",
        "            routes.append((vehicle_type, route))\n",
        "        population.append(routes)\n",
        "    return population"
      ],
      "metadata": {
        "id": "Qz0fdiPMcBkN"
      },
      "execution_count": 11,
      "outputs": []
    },
    {
      "cell_type": "markdown",
      "source": [
        "# Calculates the fitness value of a given set of routes in terms of total costs"
      ],
      "metadata": {
        "id": "KuZLgHxCEt3u"
      }
    },
    {
      "cell_type": "code",
      "source": [
        "def fitness_function(routes):\n",
        "    total_cost = 0\n",
        "    for vehicle_type, route in routes:\n",
        "        route_cost = 0\n",
        "        for i in range(len(route) - 1):\n",
        "            distance = calculate_distance(route[i], route[i+1])\n",
        "            route_cost += distance\n",
        "        total_cost += route_cost * vehicle_types[vehicle_type]['cost_per_km']\n",
        "    return total_cost"
      ],
      "metadata": {
        "id": "dRw6ISkqBSSn"
      },
      "execution_count": 12,
      "outputs": []
    },
    {
      "cell_type": "markdown",
      "source": [
        "# Performs one-point crossover between two parent solutions to create offspring."
      ],
      "metadata": {
        "id": "tXpJUubeE6FV"
      }
    },
    {
      "cell_type": "code",
      "source": [
        "def one_point_crossover(parent1, parent2):\n",
        "    if len(parent1) > 1 and len(parent2) > 1:\n",
        "        crossover_point = random.randint(1, min(len(parent1), len(parent2)) - 1)\n",
        "        child1_routes = parent1[:crossover_point]\n",
        "        child2_routes = parent2[:crossover_point]\n",
        "\n",
        "        child1_customers = set(customer for _, route in child1_routes for customer in route)\n",
        "        child2_customers = set(customer for _, route in child2_routes for customer in route)\n",
        "\n",
        "        # Add remaining routes from other parent to ensure no duplicate customers\n",
        "        for vehicle_type, route in parent2[crossover_point:]:\n",
        "            new_route = [depot]\n",
        "            for customer in route[1:-1]:\n",
        "                if customer not in child1_customers:\n",
        "                    new_route.append(customer)\n",
        "                    child1_customers.add(customer)\n",
        "            new_route.append(depot)\n",
        "            child1_routes.append((vehicle_type, new_route))\n",
        "\n",
        "        for vehicle_type, route in parent1[crossover_point:]:\n",
        "            new_route = [depot]\n",
        "            for customer in route[1:-1]:\n",
        "                if customer not in child2_customers:\n",
        "                    new_route.append(customer)\n",
        "                    child2_customers.add(customer)\n",
        "            new_route.append(depot)\n",
        "            child2_routes.append((vehicle_type, new_route))\n",
        "\n",
        "        return [child1_routes, child2_routes]\n",
        "    else:\n",
        "        return [parent1, parent2]"
      ],
      "metadata": {
        "id": "c_3FAIcNBb4O"
      },
      "execution_count": 13,
      "outputs": []
    },
    {
      "cell_type": "markdown",
      "source": [
        "# Repairs offspring solutions by removing duplicates and inserting unassigned customers into routes."
      ],
      "metadata": {
        "id": "UUKneMWuFBDN"
      }
    },
    {
      "cell_type": "code",
      "source": [
        "def repair_routes(offspring):\n",
        "    all_customers = set((cust[0], cust[1]) for cust in customers)\n",
        "    customer_details = { (cust[0], cust[1]): cust for cust in customers }\n",
        "\n",
        "    # Track customers in routes and identify duplicates\n",
        "    customer_usage = {}\n",
        "    for vehicle_type, route in offspring:\n",
        "        for customer in route[1:-1]:  # Skip depot entries\n",
        "            if (customer[0], customer[1]) in customer_usage:\n",
        "                customer_usage[(customer[0], customer[1])].append((vehicle_type, route))\n",
        "            else:\n",
        "                customer_usage[(customer[0], customer[1])] = [(vehicle_type, route)]\n",
        "\n",
        "    # Remove duplicates and prepared list of unassigned customers\n",
        "    unassigned_customers = list(all_customers)\n",
        "    for customer, routes in customer_usage.items():\n",
        "        if len(routes) > 1:  # More than one occurrence means duplicates\n",
        "            # Keep the first, remove from others\n",
        "            for vehicle_type, route in routes[1:]:\n",
        "                route.remove(customer_details[customer])\n",
        "        unassigned_customers.remove(customer)\n",
        "\n",
        "    random.shuffle(unassigned_customers)\n",
        "\n",
        "    # Insert random unassigned customers into routes with sufficient capacity\n",
        "    for customer_coords in unassigned_customers:\n",
        "        customer = customer_details[customer_coords]\n",
        "        inserted = False\n",
        "        for vehicle_type, route in offspring:\n",
        "            current_capacity = sum(c[2] for c in route[1:-1])\n",
        "            if current_capacity + customer[2] <= vehicle_types[vehicle_type]['capacity']:\n",
        "                route.insert(-1, customer)\n",
        "                inserted = True\n",
        "                break\n",
        "        if not inserted:\n",
        "            # Find the cost-effective vehicle that can accommodate the customer\n",
        "            suitable_vehicles = [(v_type, v_specs) for v_type, v_specs in vehicle_types.items() if v_specs['capacity'] >= customer[2]]\n",
        "            if suitable_vehicles:\n",
        "                # Select the vehicle with the lowest cost per km\n",
        "                best_vehicle = min(suitable_vehicles, key=lambda v: v[1]['cost_per_km'])\n",
        "                new_vehicle_type = best_vehicle[0]\n",
        "                new_route = [depot, customer, depot]  # Create a new route for this customer\n",
        "                offspring.append((new_vehicle_type, new_route))\n",
        "                #print(f\"Added new vehicle {new_vehicle_type} for customer {customer} due to insufficient capacity.\")\n",
        "            else:\n",
        "                print(f\"No vehicle found for customer {customer}.\")\n",
        "    return offspring"
      ],
      "metadata": {
        "id": "2rgr9EBmBf-O"
      },
      "execution_count": 14,
      "outputs": []
    },
    {
      "cell_type": "markdown",
      "source": [
        "# Applies swap mutation to a route, swapping the positions of two customers."
      ],
      "metadata": {
        "id": "AClhParWFLxl"
      }
    },
    {
      "cell_type": "code",
      "source": [
        "def swap_mutation(route):\n",
        "    if len(route) > 3:  # Ensure there are at least two customers to swap\n",
        "        idx1, idx2 = random.sample(range(1, len(route)-1), 2)\n",
        "        route[idx1], route[idx2] = route[idx2], route[idx1]\n",
        "    return route"
      ],
      "metadata": {
        "id": "tVtNKsLuBjkN"
      },
      "execution_count": 15,
      "outputs": []
    },
    {
      "cell_type": "markdown",
      "source": [
        "# Genetic Algorithm Implementation:\n",
        "Initialize population.\n",
        "Evaluate fitness of individuals.\n",
        "Select top-performing individuals for the next generation.\n",
        "Perform crossover and mutation to create offspring.\n",
        "Update population.\n",
        "Repeat for a specified number of generations."
      ],
      "metadata": {
        "id": "1A-mF-nKFQOm"
      }
    },
    {
      "cell_type": "code",
      "source": [
        "def genetic_algorithm(pop_size, num_vehicles, num_generations):\n",
        "    population = generate_initial_population(pop_size, num_vehicles)\n",
        "    for generation in range(num_generations):\n",
        "        # Evaluate fitness\n",
        "        fitness_scores = [fitness_function(individual) for individual in population]\n",
        "        # Selection (top half)\n",
        "        sorted_population = [x for _, x in sorted(zip(fitness_scores, population))]\n",
        "        selected = sorted_population[:len(sorted_population)//2]\n",
        "\n",
        "        # Crossover\n",
        "        offspring = []\n",
        "        while len(offspring) < len(selected):\n",
        "            parent1, parent2 = random.sample(selected, 2)\n",
        "            children = one_point_crossover(parent1, parent2)\n",
        "            for child in children:\n",
        "                repaired_child = repair_routes(child)\n",
        "                offspring.append(repaired_child)\n",
        "\n",
        "        # Mutation\n",
        "        for individual in offspring:\n",
        "            for vehicle_type, route in individual:\n",
        "                if random.random() < 0.1:\n",
        "                    swap_mutation(route)\n",
        "\n",
        "        # Create new population\n",
        "        population = selected + offspring[:len(population) - len(selected)]\n",
        "        best_solution = min(population, key=fitness_function)\n",
        "        best_cost = fitness_function(best_solution)\n",
        "\n",
        "    best_solution = min(population, key=fitness_function)\n",
        "    return best_solution"
      ],
      "metadata": {
        "id": "eeekrYsbBrwl"
      },
      "execution_count": 42,
      "outputs": []
    },
    {
      "cell_type": "markdown",
      "source": [
        "# To find the optimum generation and population size"
      ],
      "metadata": {
        "id": "qQZDMcIEUDfm"
      }
    },
    {
      "cell_type": "code",
      "source": [
        "population_sizes = [50, 100, 150, 200, 250, 300]\n",
        "generation_sizes = [50, 100, 150, 200, 250, 300]\n",
        "\n",
        "lowest_costs = {}\n",
        "\n",
        "for pop_size in population_sizes:\n",
        "    for gen_size in generation_sizes:\n",
        "        best_solution = genetic_algorithm(pop_size, 5, gen_size)\n",
        "        total_cost = fitness_function(best_solution)\n",
        "\n",
        "        lowest_costs[(pop_size, gen_size)] = total_cost\n",
        "\n",
        "best_parameters = min(lowest_costs, key=lowest_costs.get)\n",
        "lowest_cost = lowest_costs[best_parameters]\n",
        "\n",
        "print(\"Best Parameters:\", best_parameters)\n",
        "print(\"Lowest Cost:\", lowest_cost)"
      ],
      "metadata": {
        "colab": {
          "base_uri": "https://localhost:8080/"
        },
        "id": "xTs-feQ6UC9_",
        "outputId": "454d565b-281c-4e15-fa94-f6bffd113c3e"
      },
      "execution_count": 44,
      "outputs": [
        {
          "output_type": "stream",
          "name": "stdout",
          "text": [
            "Best Parameters: (200, 100)\n",
            "Lowest Cost: 125.95791551618376\n"
          ]
        }
      ]
    },
    {
      "cell_type": "markdown",
      "source": [
        "# Genetic algorithm Execution\n"
      ],
      "metadata": {
        "id": "mQ5VHavlFX2d"
      }
    },
    {
      "cell_type": "code",
      "source": [
        "best_solution = genetic_algorithm(200, 5, 100)\n",
        "\n",
        "total_distance = sum(calculate_distance(route[i], route[i+1]) for vehicle_type, route in best_solution for i in range(len(route)-1))\n",
        "total_distance = round(total_distance, 2)\n",
        "total_cost = fitness_function(best_solution)\n",
        "total_cost = round(total_cost, 2)\n",
        "print(f\"Total Distance: {total_distance} km\")\n",
        "print(f\"Total Cost: RM {total_cost}\\n\")\n",
        "\n",
        "vehicle_count = 1\n",
        "for vehicle_type, route in best_solution:\n",
        "    route_distance = sum(calculate_distance(route[i], route[i+1]) for i in range(len(route)-1))\n",
        "    route_cost = route_distance * vehicle_types[vehicle_type]['cost_per_km']\n",
        "    route_demand = sum(cust[2] for cust in route[1:-1])\n",
        "    route_distance = round(route_distance, 3)\n",
        "    route_cost = round(route_cost, 2)\n",
        "\n",
        "    print(f\"Vehicle {vehicle_count} (Type {vehicle_type}):\")\n",
        "    print(f\"Round Trip Distance: {route_distance} km, Cost: RM {route_cost}, Demand: {route_demand}\")\n",
        "\n",
        "    route_details = \"Depot\"\n",
        "    for i in range(1, len(route)-1):\n",
        "        distance_to_next = calculate_distance(route[i], route[i+1])\n",
        "        distance_to_next = round(distance_to_next, 3)\n",
        "        route_details += f\" -> C{customers.index(route[i])+1} ({distance_to_next} km)\"\n",
        "    distance_to_depot = calculate_distance(route[-2], depot)\n",
        "    distance_to_depot = round(distance_to_depot, 3)\n",
        "    route_details += f\" -> Depot ({distance_to_depot} km)\"\n",
        "    print(route_details + \"\\n\")\n",
        "\n",
        "    vehicle_count += 1"
      ],
      "metadata": {
        "id": "3NVFv0eMBu_l",
        "colab": {
          "base_uri": "https://localhost:8080/"
        },
        "outputId": "5ba6073e-978f-42f1-9db3-eac3240ad32d"
      },
      "execution_count": 46,
      "outputs": [
        {
          "output_type": "stream",
          "name": "stdout",
          "text": [
            "Total Distance: 108.46 km\n",
            "Total Cost: RM 130.16\n",
            "\n",
            "Vehicle 1 (Type A):\n",
            "Round Trip Distance: 28.759 km, Cost: RM 34.51, Demand: 24\n",
            "Depot -> C2 (1.604 km) -> C5 (2.594 km) -> C6 (8.982 km) -> C7 (6.508 km) -> Depot (6.508 km)\n",
            "\n",
            "Vehicle 2 (Type A):\n",
            "Round Trip Distance: 62.834 km, Cost: RM 75.4, Demand: 25\n",
            "Depot -> C9 (11.358 km) -> C8 (14.29 km) -> C3 (8.323 km) -> C4 (4.021 km) -> C1 (13.152 km) -> Depot (13.152 km)\n",
            "\n",
            "Vehicle 3 (Type A):\n",
            "Round Trip Distance: 16.871 km, Cost: RM 20.25, Demand: 8\n",
            "Depot -> C10 (8.436 km) -> Depot (8.436 km)\n",
            "\n"
          ]
        }
      ]
    }
  ]
}